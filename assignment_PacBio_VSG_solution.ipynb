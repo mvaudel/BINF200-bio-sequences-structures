{
  "cells": [
    {
      "cell_type": "raw",
      "metadata": {},
      "source": [
        "---\n",
        "title: 'Assignment: PacBio VSG - Solution'\n",
        "date: '2023-09-14'\n",
        "published-title: Due date\n",
        "description: |\n",
        "  BINF200 Compulsory Assignment 1 <br> 10 points, 10% of the final grade\n",
        "number-sections: true\n",
        "link-external-icon: true\n",
        "execute:\n",
        "  cache: true\n",
        "  keep-ipynb: true\n",
        "---"
      ],
      "id": "7d3b1d66"
    },
    {
      "cell_type": "markdown",
      "metadata": {},
      "source": [
        "## Setup the environment"
      ],
      "id": "49f01769"
    },
    {
      "cell_type": "code",
      "metadata": {},
      "source": [
        "using DrWatson\n",
        "@quickactivate \"BINF200\"\n",
        "\n",
        "using BioSequences\n",
        "using FASTX\n",
        "using DataFrames\n",
        "using CSV\n",
        "using StatsPlots\n",
        "using LaTeXStrings"
      ],
      "id": "a60409ea",
      "execution_count": null,
      "outputs": []
    },
    {
      "cell_type": "markdown",
      "metadata": {},
      "source": [
        "## Tasks\n",
        "\n",
        "Set the sample name:"
      ],
      "id": "5a716eef"
    },
    {
      "cell_type": "code",
      "metadata": {},
      "source": [
        "sample = \"balbc_10_1\""
      ],
      "id": "2e8d6e6c",
      "execution_count": null,
      "outputs": []
    },
    {
      "cell_type": "markdown",
      "metadata": {},
      "source": [
        "### BLAST the sample sequences against the reference VSG database\n",
        "\n",
        "5. **What is the number of sequences in *your* input file?**\n",
        "\n",
        "   Read the FASTA file into a vector of FASTA records:"
      ],
      "id": "dfb23d34"
    },
    {
      "cell_type": "code",
      "metadata": {
        "md-indent": "   "
      },
      "source": [
        "filtered_reads = Vector{FASTARecord}();\n",
        "FASTAReader( open(datadir(\"PacBio_VSG\", \"filtered_reads\", \"PacBio_VSG_filtered_reads_\" * sample * \".fasta\")) ) do reader\n",
        "   for record in reader\n",
        "      push!(filtered_reads, record);\n",
        "   end\n",
        "end"
      ],
      "id": "9d44b09f",
      "execution_count": null,
      "outputs": []
    },
    {
      "cell_type": "markdown",
      "metadata": {},
      "source": [
        "   The number of sequences in the sample is:\n"
      ],
      "id": "1641d320"
    },
    {
      "cell_type": "code",
      "metadata": {
        "md-indent": "   "
      },
      "source": [
        "length(filtered_reads)"
      ],
      "id": "5865ef15",
      "execution_count": null,
      "outputs": []
    },
    {
      "cell_type": "markdown",
      "metadata": {},
      "source": [
        "6. **What is the number of sequences in *your* output file?**\n",
        "\n",
        "   Import the blast results in a DataFrame. The column names can be constructed from the blastn command."
      ],
      "id": "864994f8"
    },
    {
      "cell_type": "code",
      "metadata": {
        "md-indent": "   "
      },
      "source": [
        "df = DataFrame(CSV.File( datadir(\"PacBio_VSG\", \"blastn\", \"PacBio_VSG_filtered_reads_blastn_\" * sample * \".txt\"), header=false ));\n",
        "rename!(df, [\"qseqid\", \"sseqid\", \"score\", \"bitscore\", \"evalue\", \"qlen\", \"slen\", \"length\", \"sstart\", \"send\", \"nident\", \"mismatch\", \"gaps\", \"positive\"]);"
      ],
      "id": "f065bbad",
      "execution_count": null,
      "outputs": []
    },
    {
      "cell_type": "markdown",
      "metadata": {},
      "source": [
        "   The number of sequences in the output file is:\n"
      ],
      "id": "6152b410"
    },
    {
      "cell_type": "code",
      "metadata": {
        "md-indent": "   "
      },
      "source": [
        "nrow(df)"
      ],
      "id": "86f9f6f4",
      "execution_count": null,
      "outputs": []
    },
    {
      "cell_type": "markdown",
      "metadata": {},
      "source": [
        "   Despite setting the option `-max_target_seq 1` in the `blastn` command, this number may be *greater* than the number of input sequences. The reason is that sometimes for *one* query sequence, *two* separate alignments are found against the *same* subject sequence. To show this, we compute for each unique query id, its number of alignments (number of rows it appears in in `df`) and the number of unique subject ids in those rows:\n"
      ],
      "id": "7aff1318"
    },
    {
      "cell_type": "code",
      "metadata": {
        "md-indent": "   "
      },
      "source": [
        "df_qseqid_count = combine(groupby(df[:,1:2], :qseqid), nrow, :sseqid => x -> length(unique(x)));"
      ],
      "id": "eec83880",
      "execution_count": null,
      "outputs": []
    },
    {
      "cell_type": "markdown",
      "metadata": {},
      "source": [
        "   We see that now the number of unique query sequences is indeed equal to the number of input sequences:\n"
      ],
      "id": "4dc43a8a"
    },
    {
      "cell_type": "code",
      "metadata": {
        "md-indent": "   "
      },
      "source": [
        "nrow(df_qseqid_count) == length(filtered_reads)"
      ],
      "id": "f05da369",
      "execution_count": null,
      "outputs": []
    },
    {
      "cell_type": "markdown",
      "metadata": {},
      "source": [
        "   We also see that sometimes two alignments were found per query sequence:\n"
      ],
      "id": "d232cfa3"
    },
    {
      "cell_type": "code",
      "metadata": {
        "md-indent": "   "
      },
      "source": [
        "unique(df_qseqid_count.nrow)"
      ],
      "id": "0202a659",
      "execution_count": null,
      "outputs": []
    },
    {
      "cell_type": "markdown",
      "metadata": {},
      "source": [
        "   But the number of unique subject sequences was always one:\n"
      ],
      "id": "344461f0"
    },
    {
      "cell_type": "code",
      "metadata": {
        "md-indent": "   "
      },
      "source": [
        "unique(df_qseqid_count.sseqid_function)"
      ],
      "id": "d2cd19eb",
      "execution_count": null,
      "outputs": []
    },
    {
      "cell_type": "markdown",
      "metadata": {},
      "source": [
        "7. **We define the alignment coverage as the percentage of the subject sequence covered by the alignment. Compute the alignment coverage for all sequences from the blastn output. Count and remove alignments with coverage less than 60%.**\n"
      ],
      "id": "a1719aa1"
    },
    {
      "cell_type": "code",
      "metadata": {
        "md-indent": "   "
      },
      "source": [
        "df.alignment_coverage = df.length ./ df.slen;"
      ],
      "id": "b0e63ef5",
      "execution_count": null,
      "outputs": []
    },
    {
      "cell_type": "markdown",
      "metadata": {},
      "source": [
        "   Show the distribution of alignment coverages as a histogram\n"
      ],
      "id": "d847dc21"
    },
    {
      "cell_type": "code",
      "metadata": {
        "md-indent": "   "
      },
      "source": [
        "histogram(100*df.alignment_coverage, label=\"\", xlabel=\"Alignment coverage (%)\")"
      ],
      "id": "e6cc15d7",
      "execution_count": null,
      "outputs": []
    },
    {
      "cell_type": "markdown",
      "metadata": {},
      "source": [
        "   Keep only alignments with coverage greater than 60%:\n"
      ],
      "id": "84075e00"
    },
    {
      "cell_type": "code",
      "metadata": {
        "md-indent": "   "
      },
      "source": [
        "subset!(df, :alignment_coverage => x -> x.>= 0.6);"
      ],
      "id": "df8ce0e1",
      "execution_count": null,
      "outputs": []
    },
    {
      "cell_type": "markdown",
      "metadata": {},
      "source": [
        "8. **The bit score $S'$ is derived from the raw score $S$ using the formula**\n",
        "\n",
        "   $$\n",
        "   S' = \\frac{\\lambda S - \\ln K}{\\ln 2}\n",
        "   $$\n",
        "\n",
        "   In other words, the bit score is a linear function of the raw score, which we can verify immediately using a scatter plot:\n"
      ],
      "id": "f4ababaa"
    },
    {
      "cell_type": "code",
      "metadata": {
        "md-indent": "   "
      },
      "source": [
        "scatter(df.score, df.bitscore)"
      ],
      "id": "c1809834",
      "execution_count": null,
      "outputs": []
    },
    {
      "cell_type": "markdown",
      "metadata": {},
      "source": [
        "   If $(x_1,y_1)$ and $(x_2,y_2)$ are two point on a line $y=a x + b$, the slope $a$ is found from\n",
        "\n",
        "   $$\n",
        "   a = \\frac{y_2 - y_1}{x_2 - x_1}.\n",
        "   $$\n",
        "\n",
        "   Once we know the slope, the intercept $b$ is found from $b = y_2 - a x_2$. Applied to the alignment scores, we only need two pairs of scores, and might as well take the ones furthest apart:\n"
      ],
      "id": "136a1f54"
    },
    {
      "cell_type": "code",
      "metadata": {
        "md-indent": "   "
      },
      "source": [
        "i1 = argmin(df.score);\n",
        "i2 = argmax(df.score);\n",
        "x1, y1 = [df.score[i1], df.bitscore[i1]]\n",
        "x2, y2 = [df.score[i2], df.bitscore[i2]]\n",
        "a = (y2 - y1) / (x2 - x1);\n",
        "b = y2 - a * x2;"
      ],
      "id": "48d69d2e",
      "execution_count": null,
      "outputs": []
    },
    {
      "cell_type": "markdown",
      "metadata": {},
      "source": [
        "   The parameters $\\lambda$ and $K$ follow:\n"
      ],
      "id": "4d7b5081"
    },
    {
      "cell_type": "code",
      "metadata": {
        "md-indent": "   "
      },
      "source": [
        "λ = a*log(2)"
      ],
      "id": "e3e7d19c",
      "execution_count": null,
      "outputs": []
    },
    {
      "cell_type": "code",
      "metadata": {
        "md-indent": "   "
      },
      "source": [
        "K = 2^(-b)"
      ],
      "id": "1259c17e",
      "execution_count": null,
      "outputs": []
    },
    {
      "cell_type": "markdown",
      "metadata": {},
      "source": [
        "### Count VSG expression levels\n",
        "\n",
        "From the previous BLAST results:\n",
        "\n",
        "1. **Extract the unique VSG ids in *your* sample**\n"
      ],
      "id": "3bd817c7"
    },
    {
      "cell_type": "code",
      "metadata": {
        "md-indent": "   "
      },
      "source": [
        "vsg = unique(df.sseqid);"
      ],
      "id": "3ede71c7",
      "execution_count": null,
      "outputs": []
    },
    {
      "cell_type": "markdown",
      "metadata": {},
      "source": [
        "2. **Count the number of sequences aliging to each unique VSG.**\n",
        "\n",
        "   First create a grouped dataframe from the query and subject ids, grouped by subject id (VSG). Then combine and count number of rows in each one. \n"
      ],
      "id": "70918576"
    },
    {
      "cell_type": "code",
      "metadata": {
        "md-indent": "   "
      },
      "source": [
        "df_vsg = combine( groupby(df[:,1:2], :sseqid) , nrow );\n",
        "rename!(df_vsg, [\"VSG\", \"count\"]);"
      ],
      "id": "bfcbe526",
      "execution_count": null,
      "outputs": []
    },
    {
      "cell_type": "markdown",
      "metadata": {},
      "source": [
        "3. **Identify the 10 most abundant VSGs in *your* sample and visualize their relative expression levels in a pie chart.**\n"
      ],
      "id": "0c646421"
    },
    {
      "cell_type": "code",
      "metadata": {
        "md-indent": "   "
      },
      "source": [
        "sort!(df_vsg, :count, rev=true)\n",
        "pie(df_vsg.VSG[1:10], df_vsg.count[1:10] )"
      ],
      "id": "ad3f6f82",
      "execution_count": null,
      "outputs": []
    },
    {
      "cell_type": "markdown",
      "metadata": {},
      "source": [
        "### Identify open reading frames\n",
        "\n",
        "1. **Count the percentage of reads in *your* sample that result in a predicted ORF with a minimum size of 1200 nucleotides.**\n",
        "\n",
        "   Read the ORF file:\n"
      ],
      "id": "66b57237"
    },
    {
      "cell_type": "code",
      "metadata": {
        "md-indent": "   "
      },
      "source": [
        "predicted_orfs = Vector{FASTARecord}();\n",
        "FASTAReader( open(datadir(\"PacBio_VSG\", \"orf\", \"PacBio_VSG_filtered_reads_ORF_\" * sample * \".fasta\")) ) do reader\n",
        "   for record in reader\n",
        "      push!(predicted_orfs, record)\n",
        "   end\n",
        "end"
      ],
      "id": "ef52600e",
      "execution_count": null,
      "outputs": []
    },
    {
      "cell_type": "markdown",
      "metadata": {},
      "source": [
        "   The number of reads with predicted ORF with a minimum size of 1200 is\n"
      ],
      "id": "3c559e89"
    },
    {
      "cell_type": "code",
      "metadata": {
        "md-indent": "   "
      },
      "source": [
        "length(predicted_orfs)"
      ],
      "id": "c5006051",
      "execution_count": null,
      "outputs": []
    },
    {
      "cell_type": "markdown",
      "metadata": {},
      "source": [
        "   The percentage is\n"
      ],
      "id": "f4e059d8"
    },
    {
      "cell_type": "code",
      "metadata": {
        "md-indent": "   "
      },
      "source": [
        "100 * length(predicted_orfs) / length(filtered_reads)"
      ],
      "id": "6afde59c",
      "execution_count": null,
      "outputs": []
    },
    {
      "cell_type": "markdown",
      "metadata": {},
      "source": [
        "[1]: https://doi.org/10.1371/journal.pntd.0007262\n",
        "[2]: https://github.com/siddharthjayaraman/longread-application"
      ],
      "id": "6a1713b9"
    }
  ],
  "metadata": {
    "kernelspec": {
      "name": "julia-1.9",
      "language": "julia",
      "display_name": "Julia 1.9.0"
    }
  },
  "nbformat": 4,
  "nbformat_minor": 5
}