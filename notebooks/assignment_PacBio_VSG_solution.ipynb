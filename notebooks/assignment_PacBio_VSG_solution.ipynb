{
  "cells": [
    {
      "cell_type": "raw",
      "metadata": {},
      "source": [
        "---\n",
        "title: 'Assignment: PacBio VSG - Solution'\n",
        "date: '2023-09-14'\n",
        "published-title: Due date\n",
        "description: |\n",
        "  BINF200 Compulsory Assignment 1 <br> 10 points, 10% of the final grade\n",
        "number-sections: true\n",
        "link-external-icon: true\n",
        "execute:\n",
        "  cache: true\n",
        "  keep-ipynb: true\n",
        "---"
      ],
      "id": "373e3e4b"
    },
    {
      "cell_type": "markdown",
      "metadata": {},
      "source": [
        "## Setup the environment"
      ],
      "id": "6cdd3568"
    },
    {
      "cell_type": "code",
      "metadata": {},
      "source": [
        "using DrWatson\n",
        "@quickactivate \"BINF200\"\n",
        "\n",
        "using BioSequences\n",
        "using FASTX\n",
        "using DataFrames\n",
        "using CSV\n",
        "using StatsPlots\n",
        "using LaTeXStrings"
      ],
      "id": "eea562b2",
      "execution_count": null,
      "outputs": []
    },
    {
      "cell_type": "markdown",
      "metadata": {},
      "source": [
        "## Tasks\n",
        "\n",
        "Set the sample name:"
      ],
      "id": "dd8cbfca"
    },
    {
      "cell_type": "code",
      "metadata": {},
      "source": [
        "sample = \"balbc_10_1\""
      ],
      "id": "0d89bcb2",
      "execution_count": null,
      "outputs": []
    },
    {
      "cell_type": "markdown",
      "metadata": {},
      "source": [
        "### BLAST the sample sequences against the reference VSG database\n",
        "\n",
        "5. **What is the number of sequences in *your* input file?**\n",
        "\n",
        "Read the FASTA file into a vector of FASTA records:"
      ],
      "id": "d8f09f88"
    },
    {
      "cell_type": "code",
      "metadata": {},
      "source": [
        "filtered_reads = Vector{FASTARecord}();\n",
        "FASTAReader( open(datadir(\"PacBio_VSG\", \"filtered_reads\", \"PacBio_VSG_filtered_reads_\" * sample * \".fasta\")) ) do reader\n",
        "    for record in reader\n",
        "        push!(filtered_reads, record)\n",
        "    end\n",
        "end"
      ],
      "id": "138c20b0",
      "execution_count": null,
      "outputs": []
    },
    {
      "cell_type": "markdown",
      "metadata": {},
      "source": [
        "The number of sequences in the sample is:\n"
      ],
      "id": "6ead8c15"
    },
    {
      "cell_type": "code",
      "metadata": {},
      "source": [
        "length(filtered_reads)"
      ],
      "id": "fdfdb374",
      "execution_count": null,
      "outputs": []
    },
    {
      "cell_type": "markdown",
      "metadata": {},
      "source": [
        "6. **What is the number of sequences in *your* output file?**\n",
        "\n",
        "Import the blast results in a DataFrame. The column names can be constructed from the blastn command."
      ],
      "id": "27e580e7"
    },
    {
      "cell_type": "code",
      "metadata": {},
      "source": [
        "df = DataFrame(CSV.File( datadir(\"PacBio_VSG\", \"blastn\", \"PacBio_VSG_filtered_reads_blastn_\" * sample * \".txt\"), header=false ));\n",
        "rename!(df, [\"qseqid\", \"sseqid\", \"score\", \"bitscore\", \"evalue\", \"qlen\", \"slen\", \"length\", \"sstart\", \"send\", \"nident\", \"mismatch\", \"gaps\", \"positive\"])"
      ],
      "id": "eb5a89a6",
      "execution_count": null,
      "outputs": []
    },
    {
      "cell_type": "markdown",
      "metadata": {},
      "source": [
        "The number of sequences in the output file is:\n"
      ],
      "id": "cd94538f"
    },
    {
      "cell_type": "code",
      "metadata": {},
      "source": [
        "nrow(df)"
      ],
      "id": "2a5df265",
      "execution_count": null,
      "outputs": []
    },
    {
      "cell_type": "markdown",
      "metadata": {},
      "source": [
        "Despite setting the option `-max_target_seq 1` in the `blastn` command, this number may be *greater* than the number of input sequences. The reason is that sometimes for *one* query sequence, *two* separate alignments are found against the *same* subject sequence. To show this, we compute for each unique query id, its number of alignments (number of rows it appears in in `df`) and the number of unique subject ids in those rows:\n"
      ],
      "id": "d754c65b"
    },
    {
      "cell_type": "code",
      "metadata": {},
      "source": [
        "df_qseqid_count = combine(groupby(df[:,1:2], :qseqid), nrow, :sseqid => x -> length(unique(x)))"
      ],
      "id": "0fd1570d",
      "execution_count": null,
      "outputs": []
    },
    {
      "cell_type": "markdown",
      "metadata": {},
      "source": [
        "We see that now the number of unique query sequences is indeed equal to the number of input sequences:\n"
      ],
      "id": "b36c030d"
    },
    {
      "cell_type": "code",
      "metadata": {},
      "source": [
        "nrow(df_qseqid_count) == length(filtered_reads)"
      ],
      "id": "15cbcd15",
      "execution_count": null,
      "outputs": []
    },
    {
      "cell_type": "markdown",
      "metadata": {},
      "source": [
        "We also see that sometimes two alignments were found per query sequence:\n"
      ],
      "id": "c3fc41ea"
    },
    {
      "cell_type": "code",
      "metadata": {},
      "source": [
        "unique(df_qseqid_count.nrow)"
      ],
      "id": "1134bc8e",
      "execution_count": null,
      "outputs": []
    },
    {
      "cell_type": "markdown",
      "metadata": {},
      "source": [
        "But the number of unique subject sequences was always one:\n"
      ],
      "id": "31342c68"
    },
    {
      "cell_type": "code",
      "metadata": {},
      "source": [
        "unique(df_qseqid_count.sseqid_function)"
      ],
      "id": "5575fba2",
      "execution_count": null,
      "outputs": []
    },
    {
      "cell_type": "markdown",
      "metadata": {},
      "source": [
        "7. **We define the alignment coverage as the percentage of the subject sequence covered by the alignment. Compute the alignment coverage for all sequences from the blastn output. Count and remove alignments with coverage less than 60%.**\n"
      ],
      "id": "3dae299b"
    },
    {
      "cell_type": "code",
      "metadata": {},
      "source": [
        "df.alignment_coverage = df.length ./ df.slen"
      ],
      "id": "9b719343",
      "execution_count": null,
      "outputs": []
    },
    {
      "cell_type": "markdown",
      "metadata": {},
      "source": [
        "Show the distribution of alignment coverages as a histogram\n"
      ],
      "id": "ec2556fc"
    },
    {
      "cell_type": "code",
      "metadata": {},
      "source": [
        "histogram(100*df.alignment_coverage, label=\"\", xlabel=\"Alignment coverage (%)\")"
      ],
      "id": "3240288c",
      "execution_count": null,
      "outputs": []
    },
    {
      "cell_type": "markdown",
      "metadata": {},
      "source": [
        "Keep only alignments with coverage greater than 60%:\n"
      ],
      "id": "f9ed59bb"
    },
    {
      "cell_type": "code",
      "metadata": {},
      "source": [
        "subset!(df, :alignment_coverage => x -> x.>= 0.6)"
      ],
      "id": "2949f77c",
      "execution_count": null,
      "outputs": []
    },
    {
      "cell_type": "markdown",
      "metadata": {},
      "source": [
        "8. **The bit score $S'$ is derived from the raw score $S$ using the formula**\n",
        "\n",
        "   $$\n",
        "   S' = \\frac{\\lambda S - \\ln K}{\\ln 2}\n",
        "   $$\n",
        "\n",
        "In other words, the bit score is a linear function of the raw score, which we can verify immediately using a scatter plot:\n"
      ],
      "id": "1331c7f4"
    },
    {
      "cell_type": "code",
      "metadata": {},
      "source": [
        "scatter(df.score, df.bitscore)"
      ],
      "id": "6f990916",
      "execution_count": null,
      "outputs": []
    },
    {
      "cell_type": "markdown",
      "metadata": {},
      "source": [
        "If $(x_1,y_1)$ and $(x_2,y_2)$ are two point on a line $y=a x + b$, the slope $a$ is found from\n",
        "\n",
        "$$\n",
        "a = \\frac{y_2 - y_1}{x_2 - x_1}.\n",
        "$$\n",
        "\n",
        "Once we know the slope, the intercept $b$ is found from $b = y_2 - a x_2$. Applied to the alignment scores, we only need two pairs of scores, and might as well take the ones furthest apart:\n"
      ],
      "id": "9f38f2bf"
    },
    {
      "cell_type": "code",
      "metadata": {},
      "source": [
        "i1 = argmin(df.score);\n",
        "i2 = argmax(df.score);\n",
        "x1, y1 = [df.score[i1], df.bitscore[i1]]\n",
        "x2, y2 = [df.score[i2], df.bitscore[i2]]\n",
        "a = (y2 - y1) / (x2 - x1);\n",
        "b = y2 - a * x2;"
      ],
      "id": "4433687a",
      "execution_count": null,
      "outputs": []
    },
    {
      "cell_type": "markdown",
      "metadata": {},
      "source": [
        "The parameters $\\lambda$ and $K$ follow:\n"
      ],
      "id": "77d7665d"
    },
    {
      "cell_type": "code",
      "metadata": {},
      "source": [
        "λ = a*log(2)"
      ],
      "id": "6cc7560c",
      "execution_count": null,
      "outputs": []
    },
    {
      "cell_type": "code",
      "metadata": {},
      "source": [
        "K = 2^(-b)"
      ],
      "id": "8b4b771c",
      "execution_count": null,
      "outputs": []
    },
    {
      "cell_type": "markdown",
      "metadata": {},
      "source": [
        "### Count VSG expression levels\n",
        "\n",
        "From the previous BLAST results:\n",
        "\n",
        "1. **Extract the unique VSG ids in *your* sample**\n"
      ],
      "id": "700f3a7f"
    },
    {
      "cell_type": "code",
      "metadata": {},
      "source": [
        "vsg = unique(df.sseqid)"
      ],
      "id": "f97ef556",
      "execution_count": null,
      "outputs": []
    },
    {
      "cell_type": "markdown",
      "metadata": {},
      "source": [
        "2. **Count the number of sequences aliging to each unique VSG.**\n",
        "\n",
        "First create a grouped dataframe from the query and subject ids, grouped by subject id (VSG). Then combine and count number of rows in each one. \n"
      ],
      "id": "efb86b9e"
    },
    {
      "cell_type": "code",
      "metadata": {},
      "source": [
        "df_vsg = combine( groupby(df[:,1:2], :sseqid) , nrow );\n",
        "rename!(df_vsg, [\"VSG\", \"count\"])"
      ],
      "id": "1558b649",
      "execution_count": null,
      "outputs": []
    },
    {
      "cell_type": "markdown",
      "metadata": {},
      "source": [
        "3. **Identify the 10 most abundant VSGs in *your* sample and visualize their relative expression levels in a pie chart.**\n"
      ],
      "id": "a2d8a222"
    },
    {
      "cell_type": "markdown",
      "metadata": {},
      "source": [
        "sort!(df_vsg, :count, rev=true)\n",
        "pie(df_vsg.VSG[1:10], df_vsg.count[1:10] )\n",
        " ```\n",
        "\n",
        "\n",
        "### Identify open reading frames\n",
        "\n",
        "1. **Count the percentage of reads in *your* sample that result in a predicted ORF with a minimum size of 1200 nucleotides.**\n",
        "\n",
        "Read the ORF file:\n"
      ],
      "id": "49bc305a"
    },
    {
      "cell_type": "code",
      "metadata": {},
      "source": [
        "predicted_orfs = Vector{FASTARecord}();\n",
        "FASTAReader( open(datadir(\"PacBio_VSG\", \"orf\", \"PacBio_VSG_filtered_reads_ORF_\" * sample * \".fasta\")) ) do reader\n",
        "    for record in reader\n",
        "        push!(predicted_orfs, record)\n",
        "    end\n",
        "end"
      ],
      "id": "be694308",
      "execution_count": null,
      "outputs": []
    },
    {
      "cell_type": "markdown",
      "metadata": {},
      "source": [
        "The number of reads with predicted ORF with a minimum size of 1200 is\n"
      ],
      "id": "741df415"
    },
    {
      "cell_type": "code",
      "metadata": {},
      "source": [
        "length(predicted_orfs)"
      ],
      "id": "95b6eff1",
      "execution_count": null,
      "outputs": []
    },
    {
      "cell_type": "markdown",
      "metadata": {},
      "source": [
        "The percentage is\n"
      ],
      "id": "24606531"
    },
    {
      "cell_type": "code",
      "metadata": {},
      "source": [
        "100 * length(predicted_orfs) / length(filtered_reads)"
      ],
      "id": "411c8683",
      "execution_count": null,
      "outputs": []
    },
    {
      "cell_type": "markdown",
      "metadata": {},
      "source": [
        "[1]: https://doi.org/10.1371/journal.pntd.0007262\n",
        "[2]: https://github.com/siddharthjayaraman/longread-application"
      ],
      "id": "dbc77647"
    }
  ],
  "metadata": {
    "kernelspec": {
      "name": "julia-1.9",
      "language": "julia",
      "display_name": "Julia 1.9.0"
    }
  },
  "nbformat": 4,
  "nbformat_minor": 5
}